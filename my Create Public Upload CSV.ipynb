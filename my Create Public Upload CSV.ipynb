{
 "cells": [
  {
   "cell_type": "code",
   "execution_count": 1,
   "id": "c0fb2beb",
   "metadata": {},
   "outputs": [
    {
     "name": "stderr",
     "output_type": "stream",
     "text": [
      "c:\\Users\\Josh\\Anaconda3\\envs\\team4762\\lib\\site-packages\\tqdm\\auto.py:21: TqdmWarning: IProgress not found. Please update jupyter and ipywidgets. See https://ipywidgets.readthedocs.io/en/stable/user_install.html\n",
      "  from .autonotebook import tqdm as notebook_tqdm\n"
     ]
    }
   ],
   "source": [
    "import torch\n",
    "from my_data import prepare_input, GamesDataset\n",
    "from torch.utils.data import DataLoader\n",
    "import numpy as np"
   ]
  },
  {
   "cell_type": "code",
   "execution_count": 2,
   "metadata": {},
   "outputs": [
    {
     "name": "stdout",
     "output_type": "stream",
     "text": [
      "{'a': 0, 'b': 1, 'c': 2, 'd': 3, 'e': 4, 'f': 5, 'g': 6, 'h': 7, 'i': 8, 'j': 9, 'k': 10, 'l': 11, 'm': 12, 'n': 13, 'o': 14, 'p': 15, 'q': 16, 'r': 17, 's': 18}\n"
     ]
    }
   ],
   "source": [
    "chars = 'abcdefghijklmnopqrs'\n",
    "coordinates = {k:v for v,k in enumerate(chars)}\n",
    "chartonumbers = {k:v for k,v in enumerate(chars)}\n",
    "print(coordinates)\n",
    "def number_to_char(number):\n",
    "    number_1, number_2 = divmod(number, 19)\n",
    "    return chartonumbers[number_1] + chartonumbers[number_2]\n",
    "\n",
    "def top_5_preds_with_chars(predictions):\n",
    "    # resulting_preds_numbers = [np.flip(np.argpartition(prediction, -5)[-5:]) for prediction in predictions]\n",
    "    resulting_preds_numbers = [np.flip(np.argsort(prediction)[-5:]) for prediction in predictions]\n",
    "    # print(resulting_preds_numbers[0])\n",
    "    # print(predictions[0][resulting_preds_numbers[0][0]])\n",
    "    # print(predictions[0][resulting_preds_numbers[0][1]])\n",
    "    # print(predictions[0][resulting_preds_numbers[0][2]])\n",
    "    # print(predictions[0][resulting_preds_numbers[0][3]])\n",
    "    # print(predictions[0][resulting_preds_numbers[0][4]])\n",
    "\n",
    "    resulting_preds_chars = np.vectorize(number_to_char)(resulting_preds_numbers)\n",
    "    return resulting_preds_chars"
   ]
  },
  {
   "cell_type": "code",
   "execution_count": 3,
   "metadata": {},
   "outputs": [
    {
     "name": "stdout",
     "output_type": "stream",
     "text": [
      "cuda:0\n"
     ]
    }
   ],
   "source": [
    "USE_CUDA = torch.cuda.is_available()\n",
    "device = torch.device(\"cuda:0\" if USE_CUDA else \"cpu\")\n",
    "print(device)"
   ]
  },
  {
   "cell_type": "markdown",
   "metadata": {},
   "source": [
    "## Save Predictions for Kyu\n",
    "The same code block applies to Kyu by changing the model and dataset"
   ]
  },
  {
   "cell_type": "code",
   "execution_count": 4,
   "metadata": {},
   "outputs": [
    {
     "name": "stderr",
     "output_type": "stream",
     "text": [
      "c:\\AIcup_team4762\\my_data.py:30: UserWarning: To copy construct from a tensor, it is recommended to use sourceTensor.clone().detach() or sourceTensor.clone().detach().requires_grad_(True), rather than torch.tensor(sourceTensor).\n",
      "  return torch.tensor(torch.from_numpy(x), dtype=torch.float32)\n"
     ]
    },
    {
     "name": "stdout",
     "output_type": "stream",
     "text": [
      "11340\n"
     ]
    }
   ],
   "source": [
    "model = torch.load('./kyu_models/model2300.pth')\n",
    "model.eval()\n",
    "\n",
    "df = open('./29_Public Testing Dataset_Public Submission Template_v2/29_Public Testing Dataset_v2/kyu_test_public.csv').read().splitlines()\n",
    "games_id = [i.split(',',2)[0] for i in df]\n",
    "games = [i.split(',',2)[-1] for i in df]\n",
    "\n",
    "test_x_list = []\n",
    "for game in games:\n",
    "    move_list = game.split(',')\n",
    "    test_x = prepare_input(move_list)\n",
    "    test_x_list.append(test_x)\n",
    "\n",
    "test_x_list = torch.stack(test_x_list)\n",
    "model = model.to(device)\n",
    "test_x_list = test_x_list.to(device)\n",
    "\n",
    "test_dataset = GamesDataset(test_x_list)\n",
    "data_loader_test = DataLoader(dataset=test_dataset, batch_size=32, shuffle=False)\n",
    "\n",
    "\n",
    "for idx,x in enumerate(data_loader_test):\n",
    "    predictions=model(x)\n",
    "    predictions = predictions.cpu()\n",
    "    predictions = predictions.detach().numpy()\n",
    "    prediction_chars = top_5_preds_with_chars(predictions)\n",
    "    \n",
    "    with open('./public_submission.csv','a') as f:\n",
    "        for index in range(len(prediction_chars)):\n",
    "            \n",
    "            answer_row = games_id[idx*32+index] + ',' + ','.join(prediction_chars[index]) + '\\n'\n",
    "            f.write(answer_row)"
   ]
  },
  {
   "cell_type": "markdown",
   "id": "5ac5558f",
   "metadata": {},
   "source": [
    "## Save Predictions for Dan\n",
    "The code block below is to use **dan model** to predict and save the results in required form. It generates the best 5 predictions for each sample and convert them to character coordinates."
   ]
  },
  {
   "cell_type": "code",
   "execution_count": 5,
   "metadata": {},
   "outputs": [
    {
     "name": "stdout",
     "output_type": "stream",
     "text": [
      "11000\n"
     ]
    }
   ],
   "source": [
    "model = torch.load('./dan_models/model2000.pth')\n",
    "model.eval()\n",
    "\n",
    "df = open('./29_Public Testing Dataset_Public Submission Template_v2/29_Public Testing Dataset_v2/dan_test_public.csv').read().splitlines()\n",
    "games_id = [i.split(',',2)[0] for i in df]\n",
    "games = [i.split(',',2)[-1] for i in df]\n",
    "\n",
    "test_x_list = []\n",
    "for game in games:\n",
    "    \n",
    "    move_list = game.split(',')\n",
    "    test_x = prepare_input(move_list)\n",
    "    test_x_list.append(test_x)\n",
    "\n",
    "\n",
    "test_x_list = torch.stack(test_x_list)\n",
    "model = model.to(device)\n",
    "test_x_list = test_x_list.to(device)\n",
    "\n",
    "test_dataset = GamesDataset(test_x_list)\n",
    "data_loader_test = DataLoader(dataset=test_dataset, batch_size=32, shuffle=False)\n",
    "\n",
    "\n",
    "for idx,x in enumerate(data_loader_test):\n",
    "    predictions=model(x)\n",
    "    predictions = predictions.cpu()\n",
    "    predictions = predictions.detach().numpy()\n",
    "    prediction_chars = top_5_preds_with_chars(predictions)\n",
    "    \n",
    "    with open('./public_submission.csv','a') as f:\n",
    "        for index in range(len(prediction_chars)):\n",
    "            answer_row = games_id[idx*32+index] + ',' + ','.join(prediction_chars[index]) + '\\n'\n",
    "            f.write(answer_row)"
   ]
  },
  {
   "cell_type": "markdown",
   "id": "981b80b8",
   "metadata": {},
   "source": [
    "## Save Predictions for PlayStyle\n",
    "Playstyle requires only one predictions so the code here is a simple version of above"
   ]
  },
  {
   "cell_type": "code",
   "execution_count": 6,
   "id": "6bcef09c",
   "metadata": {},
   "outputs": [],
   "source": [
    "# Load your own model. Here we use the baseline model\n",
    "model = torch.load('./playstyle_models/best_PS_model.pth')\n",
    "model.eval()\n",
    "\n",
    "df = open('./29_Public Testing Dataset_Public Submission Template_v2/29_Public Testing Dataset_v2/play_style_test_public.csv').read().splitlines()\n",
    "games_id = [i.split(',',2)[0] for i in df]\n",
    "games = [i.split(',',1)[-1] for i in df]\n",
    "\n",
    "pre_data_num=7\n",
    "test_x_list = []\n",
    "for game in games:\n",
    "    move_list = game.split(',')\n",
    "    test_x = prepare_input(move_list)\n",
    "    last_idx = len(move_list)-1\n",
    "    if(last_idx < pre_data_num):\n",
    "        for i in range(last_idx):\n",
    "            test_x = torch.cat((test_x, prepare_input(move_list[:last_idx-1-i])[:2]), dim=0)\n",
    "        for i in range(pre_data_num - last_idx):\n",
    "            test_x = torch.cat((test_x, torch.zeros((2, 19, 19))), dim=0)      \n",
    "    else:\n",
    "        for i in range(pre_data_num):\n",
    "            test_x = torch.cat((test_x, prepare_input(move_list[:last_idx-1-i])[:2]), dim=0)\n",
    "   \n",
    "    test_x_list.append(test_x)\n",
    "\n",
    "\n",
    "test_x_list = torch.stack(test_x_list)\n",
    "model = model.to(device)\n",
    "test_x_list = test_x_list.to(device)\n",
    "\n",
    "test_dataset = GamesDataset(test_x_list)\n",
    "data_loader_test = DataLoader(dataset=test_dataset, batch_size=32, shuffle=False)\n",
    "\n",
    "\n",
    "for idx,x in enumerate(data_loader_test):\n",
    "    predictions=model(x)\n",
    "    predictions = predictions.cpu()\n",
    "    predictions = predictions.detach().numpy()\n",
    "    prediction_numbers = np.argmax(predictions, axis=1)\n",
    "\n",
    "    with open('./public_submission.csv','a') as f:\n",
    "        for index, number in enumerate(prediction_numbers):\n",
    "            answer_row = games_id[idx*32+index] + ',' + str(number+1) + '\\n'\n",
    "            f.write(answer_row)\n",
    "\n"
   ]
  }
 ],
 "metadata": {
  "kernelspec": {
   "display_name": "team4762",
   "language": "python",
   "name": "python3"
  },
  "language_info": {
   "codemirror_mode": {
    "name": "ipython",
    "version": 3
   },
   "file_extension": ".py",
   "mimetype": "text/x-python",
   "name": "python",
   "nbconvert_exporter": "python",
   "pygments_lexer": "ipython3",
   "version": "3.7.16"
  }
 },
 "nbformat": 4,
 "nbformat_minor": 5
}

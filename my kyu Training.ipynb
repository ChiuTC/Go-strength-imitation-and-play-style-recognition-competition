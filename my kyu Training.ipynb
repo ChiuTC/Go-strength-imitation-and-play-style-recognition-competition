{
 "cells": [
  {
   "cell_type": "code",
   "execution_count": null,
   "metadata": {},
   "outputs": [],
   "source": [
    "import torch\n",
    "from my_data import prepare_input, prepare_label, CustomDataset\n",
    "from torch.utils.data import DataLoader\n",
    "from my_model import ResidualBlock, ResViT_kyu\n",
    "from torch.utils.tensorboard import SummaryWriter\n",
    "from tqdm import tqdm\n",
    "from sklearn.model_selection import train_test_split\n",
    "import os"
   ]
  },
  {
   "cell_type": "code",
   "execution_count": null,
   "metadata": {},
   "outputs": [],
   "source": [
    "try:\n",
    "    os.makedirs('./kyu_models')\n",
    "    print(f\"建立資料夾成功\")\n",
    "except FileExistsError:\n",
    "    print(f\"已經建立資料夾\")"
   ]
  },
  {
   "cell_type": "code",
   "execution_count": null,
   "metadata": {},
   "outputs": [],
   "source": [
    "USE_CUDA = torch.cuda.is_available()\n",
    "device = torch.device(\"cuda:0\" if USE_CUDA else \"cpu\")\n",
    "print(device)"
   ]
  },
  {
   "cell_type": "code",
   "execution_count": null,
   "metadata": {},
   "outputs": [],
   "source": [
    "df = open('./29_Training Dataset/Training Dataset/kyu_train.csv').read().splitlines()\n",
    "games = [i.split(',',2)[-1] for i in df] #把前面和下棋無關的字串分隔開，並且只取後面有關的字串"
   ]
  },
  {
   "cell_type": "code",
   "execution_count": null,
   "metadata": {},
   "outputs": [],
   "source": [
    "pre_data_num = 0\n",
    "model = ResViT_kyu(input_dim=5 + 2 * pre_data_num, ResidualBlock=ResidualBlock)\n",
    "model = model.to(device)"
   ]
  },
  {
   "cell_type": "code",
   "execution_count": null,
   "metadata": {},
   "outputs": [],
   "source": [
    "loss_fn = torch.nn.CrossEntropyLoss()\n",
    "optimizer = torch.optim.Adam(model.parameters(), lr = 1e-3)\n",
    "epochs = 2\n",
    "bs = 512"
   ]
  },
  {
   "cell_type": "code",
   "execution_count": null,
   "metadata": {},
   "outputs": [],
   "source": [
    "writer = SummaryWriter(log_dir='./logs/log_resvit_kyu')"
   ]
  },
  {
   "cell_type": "code",
   "execution_count": null,
   "metadata": {},
   "outputs": [],
   "source": [
    "train_games, val_games = train_test_split(games, test_size=0.001)"
   ]
  },
  {
   "cell_type": "code",
   "execution_count": null,
   "metadata": {},
   "outputs": [],
   "source": [
    "len(train_games), len(val_games)"
   ]
  },
  {
   "cell_type": "code",
   "execution_count": null,
   "metadata": {},
   "outputs": [],
   "source": [
    "val_x_list = []\n",
    "val_y_list = []\n",
    "val_x_pre_eight_list = []\n",
    "for val_game_num, val_game in enumerate(val_games):\n",
    "    val_move_list = val_game.split(',')\n",
    "\n",
    "    for idx, val_move in enumerate(val_move_list):\n",
    "        val_x = prepare_input(val_move_list[:idx])\n",
    "        val_x_list.append(val_x)\n",
    "        val_y = prepare_label(val_move_list[idx])\n",
    "        val_y = torch.nn.functional.one_hot(val_y, 19*19)\n",
    "        val_y = torch.tensor(val_y, dtype=torch.float32)\n",
    "        val_y_list.append(val_y)\n",
    "\n",
    "        if((idx+1) <= pre_data_num):\n",
    "            for i in range(idx):\n",
    "                val_x = torch.cat((val_x, val_x_list[idx-1-i][5]), dim=0)\n",
    "            for i in range(pre_data_num - idx):\n",
    "                val_x = torch.cat((val_x, torch.zeros((1, 19, 19))), dim=0)\n",
    "               \n",
    "        elif((idx+1) > pre_data_num):\n",
    "            for i in range(pre_data_num):\n",
    "                val_x = torch.cat((val_x, val_x_list[idx-1-i][5]), dim=0)\n",
    "            \n",
    "        val_x_pre_eight_list.append(val_x)\n",
    "\n",
    "\n",
    "val_x_pre_eight_stack = torch.stack(val_x_pre_eight_list)\n",
    "val_y_stack = torch.stack(val_y_list)\n",
    "\n",
    "val_x_pre_eight_stack = val_x_pre_eight_stack.to(device)\n",
    "val_y_stack = val_y_stack.to(device)\n",
    "\n",
    "val_dataset = CustomDataset(val_x_pre_eight_stack, val_y_stack)\n",
    "data_loader_val = DataLoader(dataset=val_dataset, batch_size=bs, shuffle=False)"
   ]
  },
  {
   "cell_type": "code",
   "execution_count": null,
   "metadata": {},
   "outputs": [],
   "source": [
    "val_x_pre_eight_list[0].shape"
   ]
  },
  {
   "cell_type": "code",
   "execution_count": null,
   "metadata": {},
   "outputs": [],
   "source": [
    "len(val_dataset)"
   ]
  },
  {
   "cell_type": "code",
   "execution_count": null,
   "metadata": {},
   "outputs": [],
   "source": [
    "total_games = 0 #值為1代表模型看過100場games，以此類推\n",
    "for epoch in range(epochs):\n",
    "    train_x_pre_eight_list = []\n",
    "    train_y_list = []\n",
    "    for game_num, game in enumerate(train_games):\n",
    "        total_loss_game = 0\n",
    "        accuracy_top1 = []\n",
    "        accuracy_top5 = []\n",
    "        move_list = game.split(',')\n",
    "        train_x_list = []\n",
    "        \n",
    "        for idx, move in enumerate(move_list):\n",
    "            train_x = prepare_input(move_list[:idx])\n",
    "            train_x_list.append(train_x)\n",
    "            train_y = prepare_label(move_list[idx])\n",
    "            train_y = torch.nn.functional.one_hot(train_y, 19*19) #y裡面代表了move的位置(0~361)，把它轉為19*19的array並且該位置為1\n",
    "            train_y = torch.tensor(train_y, dtype=torch.float32)\n",
    "            train_y_list.append(train_y)\n",
    "            \n",
    "            if((idx+1) <= pre_data_num):\n",
    "                for i in range(idx):\n",
    "                    train_x = torch.cat((train_x, train_x_list[idx-1-i][:2]), dim=0)\n",
    "                for i in range(pre_data_num - idx):\n",
    "                    train_x = torch.cat((train_x, torch.zeros((2, 19, 19))), dim=0)\n",
    "               \n",
    "            elif((idx+1) > pre_data_num):\n",
    "                for i in range(pre_data_num):\n",
    "                    train_x = torch.cat((train_x, train_x_list[idx-1-i][:2]), dim=0)\n",
    "            \n",
    "            train_x_pre_eight_list.append(train_x)\n",
    "            \n",
    "            \n",
    "        if((game_num+1)%100 != 0):    \n",
    "            continue #以每100場games為單位，讀入記憶體中做訓練\n",
    "\n",
    "\n",
    "        train_x_pre_eight_stack = torch.stack(train_x_pre_eight_list) #當前加上前七場game的訓練資料x\n",
    "        train_y_stack = torch.stack(train_y_list) #一場game的訓練資料y\n",
    "    \n",
    "        train_x_pre_eight_stack = train_x_pre_eight_stack.to(device)\n",
    "        train_y_stack = train_y_stack.to(device)\n",
    "\n",
    "        train_dataset = CustomDataset(train_x_pre_eight_stack, train_y_stack)\n",
    "        data_loader_train = DataLoader(dataset=train_dataset, batch_size=bs, shuffle=True)\n",
    " \n",
    "        train_x_pre_eight_list = []\n",
    "        train_y_list = []\n",
    "        for x,y in tqdm(data_loader_train):\n",
    "            outputs = model(x) \n",
    "            top_k_values, top_k_indices = torch.topk(outputs, k=5, dim=1)\n",
    "            y_values, y_indices = torch.topk(y, k=1)\n",
    "            correct_predictions_top1 = torch.eq(top_k_indices[:, 0], y_indices.squeeze())\n",
    "            correct_predictions_top5 = torch.any(torch.eq(top_k_indices, y_indices), dim=1)\n",
    "        \n",
    "            accuracy_top1.append(torch.sum(correct_predictions_top1  == True) / len(y))\n",
    "            accuracy_top5.append(torch.sum(correct_predictions_top5  == True) / len(y))\n",
    "            \n",
    "            loss = loss_fn(outputs, y)\n",
    "            optimizer.zero_grad()\n",
    "            loss.backward()\n",
    "            optimizer.step()\n",
    "            total_loss_game += loss.item() * x.shape[0]\n",
    "\n",
    "        total_games += 1  \n",
    "        writer.add_scalar('accuracy/top1', sum(accuracy_top1)/len(accuracy_top1), total_games) \n",
    "        writer.add_scalar('accuracy/top5', sum(accuracy_top5)/len(accuracy_top5), total_games) \n",
    "        # print(f'Accuracy_top1: {(sum(accuracy_top1)/len(accuracy_top1)) * 100:.2f}%')\n",
    "        # print(f'Accuracy_top5: {(sum(accuracy_top5)/len(accuracy_top5)) * 100:.2f}%')\n",
    "\n",
    "\n",
    "        avg_loss_games = total_loss_game/len(train_dataset) #計算每一場遊戲中的loss\n",
    "        writer.add_scalar('loss/train_games', avg_loss_games, total_games) \n",
    "        # print(f'avg_loss_games:{avg_loss_games}')\n",
    "      \n",
    "        if(total_games%100 == 0):\n",
    "            torch.save(model, f'./kyu_models/model{total_games}.pth') #total_games為1代表模型看過100場games，所以是每10000場game儲存一次模型\n",
    "            \n",
    "        if(total_games%100 == 0 or total_games==1):\n",
    "            #一段區間的訓練後再對驗證集資料進行評估\n",
    "            model.eval()  \n",
    "            total_val_loss = 0\n",
    "            total_val_moves = 0 \n",
    "            val_accuracy_top1 = []\n",
    "            val_accuracy_top5 = []\n",
    "            with torch.no_grad():\n",
    "                for val_x, val_y in tqdm(data_loader_val):\n",
    "                    val_outputs = model(val_x)\n",
    "                    val_loss = loss_fn(val_outputs, val_y)\n",
    "                    total_val_loss += val_loss.item() * val_x.shape[0]\n",
    "\n",
    "                    top_k_values, top_k_indices = torch.topk(val_outputs, k=5, dim=1)\n",
    "                    y_values, y_indices = torch.topk(val_y, k=1)\n",
    "                    correct_predictions_top1 = torch.eq(top_k_indices[:, 0], y_indices.squeeze())\n",
    "                    correct_predictions_top5 = torch.any(torch.eq(top_k_indices, y_indices), dim=1)\n",
    "                \n",
    "                    val_accuracy_top1.append(torch.sum(correct_predictions_top1  == True) / len(val_y))\n",
    "                    val_accuracy_top5.append(torch.sum(correct_predictions_top5  == True) / len(val_y))\n",
    "\n",
    "            avg_loss_val = total_val_loss/len(val_dataset) \n",
    "            writer.add_scalar('loss/val_games', avg_loss_val, total_games)\n",
    "            writer.add_scalar('accuracy/val_top1', sum(val_accuracy_top1)/len(val_accuracy_top1), total_games) \n",
    "            writer.add_scalar('accuracy/val_top5', sum(val_accuracy_top5)/len(val_accuracy_top5), total_games) \n",
    "            # print(f'Validation Loss: {avg_loss_val}')\n",
    "            # print(f'Val Accuracy_top1: {(sum(val_accuracy_top1)/len(val_accuracy_top1)) * 100:.2f}%')\n",
    "            # print(f'Val Accuracy_top5: {(sum(val_accuracy_top5)/len(val_accuracy_top5)) * 100:.2f}%')\n",
    "            model.train() "
   ]
  }
 ],
 "metadata": {
  "kernelspec": {
   "display_name": "team4762",
   "language": "python",
   "name": "python3"
  },
  "language_info": {
   "codemirror_mode": {
    "name": "ipython",
    "version": 3
   },
   "file_extension": ".py",
   "mimetype": "text/x-python",
   "name": "python",
   "nbconvert_exporter": "python",
   "pygments_lexer": "ipython3",
   "version": "3.7.16"
  }
 },
 "nbformat": 4,
 "nbformat_minor": 2
}

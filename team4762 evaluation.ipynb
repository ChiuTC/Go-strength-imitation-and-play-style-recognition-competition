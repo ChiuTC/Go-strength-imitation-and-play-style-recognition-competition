{
 "cells": [
  {
   "cell_type": "markdown",
   "metadata": {},
   "source": [
    "## 用於評估比賽時本團隊訓練好用於最終private dataset上的模型"
   ]
  },
  {
   "cell_type": "code",
   "execution_count": 1,
   "metadata": {},
   "outputs": [
    {
     "name": "stderr",
     "output_type": "stream",
     "text": [
      "c:\\Users\\Josh\\Anaconda3\\envs\\team4762\\lib\\site-packages\\tqdm\\auto.py:21: TqdmWarning: IProgress not found. Please update jupyter and ipywidgets. See https://ipywidgets.readthedocs.io/en/stable/user_install.html\n",
      "  from .autonotebook import tqdm as notebook_tqdm\n"
     ]
    }
   ],
   "source": [
    "import torch\n",
    "from my_data import prepare_input, prepare_label, CustomDataset, GamesDataset\n",
    "from torch.utils.data import DataLoader\n",
    "from my_model import ResidualBlock, ResViT, ResViT_kyu, ResViT_PS\n",
    "from torch.utils.tensorboard import SummaryWriter\n",
    "from tqdm import tqdm\n",
    "from sklearn.model_selection import train_test_split\n",
    "import numpy as np"
   ]
  },
  {
   "cell_type": "code",
   "execution_count": 2,
   "metadata": {},
   "outputs": [
    {
     "name": "stdout",
     "output_type": "stream",
     "text": [
      "cuda:0\n"
     ]
    }
   ],
   "source": [
    "USE_CUDA = torch.cuda.is_available()\n",
    "device = torch.device(\"cuda:0\" if USE_CUDA else \"cpu\")\n",
    "print(device)"
   ]
  },
  {
   "cell_type": "markdown",
   "metadata": {},
   "source": [
    "## 評估dan之驗證集平均準確率"
   ]
  },
  {
   "cell_type": "code",
   "execution_count": 5,
   "metadata": {},
   "outputs": [
    {
     "name": "stderr",
     "output_type": "stream",
     "text": [
      "c:\\AIcup_team4762\\my_data.py:30: UserWarning: To copy construct from a tensor, it is recommended to use sourceTensor.clone().detach() or sourceTensor.clone().detach().requires_grad_(True), rather than torch.tensor(sourceTensor).\n",
      "  return torch.tensor(torch.from_numpy(x), dtype=torch.float32)\n",
      "c:\\Users\\Josh\\Anaconda3\\envs\\team4762\\lib\\site-packages\\ipykernel_launcher.py:17: UserWarning: To copy construct from a tensor, it is recommended to use sourceTensor.clone().detach() or sourceTensor.clone().detach().requires_grad_(True), rather than torch.tensor(sourceTensor).\n",
      "  app.launch_new_instance()\n",
      "100%|██████████| 92/92 [00:30<00:00,  3.01it/s]"
     ]
    },
    {
     "name": "stdout",
     "output_type": "stream",
     "text": [
      "top 1 avg acc:0.5321841032608695\n",
      "top 5 avg acc:0.8488002464823101\n"
     ]
    },
    {
     "name": "stderr",
     "output_type": "stream",
     "text": [
      "\n"
     ]
    }
   ],
   "source": [
    "df = open('./29_Training Dataset/Training Dataset/dan_train.csv').read().splitlines()\n",
    "games = [i.split(',',2)[-1] for i in df] #把前面和下棋無關的字串分隔開，並且只取後面有關的字串\n",
    "pre_data_num = 0\n",
    "bs = 256\n",
    "train_games, val_games = train_test_split(games, test_size=0.001, random_state=64)\n",
    "val_x_list = []\n",
    "val_y_list = []\n",
    "val_x_pre_eight_list = []\n",
    "for val_game_num, val_game in enumerate(val_games):\n",
    "    val_move_list = val_game.split(',')\n",
    "\n",
    "    for idx, val_move in enumerate(val_move_list):\n",
    "        val_x = prepare_input(val_move_list[:idx])\n",
    "        val_x_list.append(val_x)\n",
    "        val_y = prepare_label(val_move_list[idx])\n",
    "        val_y = torch.nn.functional.one_hot(val_y, 19*19)\n",
    "        val_y = torch.tensor(val_y, dtype=torch.float32)\n",
    "        val_y_list.append(val_y)\n",
    "\n",
    "        if((idx+1) <= pre_data_num):\n",
    "            for i in range(idx):\n",
    "                val_x = torch.cat((val_x, val_x_list[idx-1-i][:2]), dim=0)\n",
    "            for i in range(pre_data_num - idx):\n",
    "                val_x = torch.cat((val_x, torch.zeros((2, 19, 19))), dim=0)\n",
    "               \n",
    "        elif((idx+1) > pre_data_num):\n",
    "            for i in range(pre_data_num):\n",
    "                val_x = torch.cat((val_x, val_x_list[idx-1-i][:2]), dim=0)\n",
    "            \n",
    "        val_x_pre_eight_list.append(val_x)\n",
    "\n",
    "\n",
    "val_x_pre_eight_stack = torch.stack(val_x_pre_eight_list)\n",
    "val_y_stack = torch.stack(val_y_list)\n",
    "\n",
    "val_x_pre_eight_stack = val_x_pre_eight_stack.to(device)\n",
    "val_y_stack = val_y_stack.to(device)\n",
    "\n",
    "val_dataset = CustomDataset(val_x_pre_eight_stack, val_y_stack)\n",
    "data_loader_val = DataLoader(dataset=val_dataset, batch_size=bs, shuffle=False)\n",
    "\n",
    "model = torch.load('./team4762 final models/model2000.pth')\n",
    "model.eval()\n",
    "accuracy_list_top1 = []\n",
    "accuracy_list_top5 = []\n",
    "with torch.no_grad():  # Disable gradient calculation during validation\n",
    "    for val_x, val_y in tqdm(data_loader_val):\n",
    "        predictions = model(val_x)\n",
    "        top_k_values, top_k_indices = torch.topk(predictions, k=5, dim=1)\n",
    "        val_y_values, val_y_indices = torch.topk(val_y, k=1)\n",
    "        correct_predictions_top1 = torch.eq(top_k_indices[:, 0], val_y_indices.squeeze())\n",
    "        correct_predictions_top5 = torch.any(torch.eq(top_k_indices, val_y_indices), dim=1)\n",
    "    \n",
    "        accuracy_top1 = torch.sum(correct_predictions_top1  == True) / len(val_y)\n",
    "        accuracy_top5 = torch.sum(correct_predictions_top5  == True) / len(val_y)\n",
    "        accuracy_list_top1.append(accuracy_top1.item())\n",
    "        accuracy_list_top5.append(accuracy_top5.item())\n",
    "        \n",
    "        # print(f'Accuracy_top1: {accuracy_top1 * 100:.2f}%')\n",
    "        # print(f'Accuracy_top5: {accuracy_top5 * 100:.2f}%')\n",
    "print(f'top 1 avg acc:{sum(accuracy_list_top1)/len(accuracy_list_top1)}')\n",
    "print(f'top 5 avg acc:{sum(accuracy_list_top5)/len(accuracy_list_top5)}')"
   ]
  },
  {
   "cell_type": "markdown",
   "metadata": {},
   "source": [
    "## 評估kyu之驗證集平均準確率"
   ]
  },
  {
   "cell_type": "code",
   "execution_count": 6,
   "metadata": {},
   "outputs": [
    {
     "name": "stderr",
     "output_type": "stream",
     "text": [
      "c:\\Users\\Josh\\Anaconda3\\envs\\team4762\\lib\\site-packages\\ipykernel_launcher.py:17: UserWarning: To copy construct from a tensor, it is recommended to use sourceTensor.clone().detach() or sourceTensor.clone().detach().requires_grad_(True), rather than torch.tensor(sourceTensor).\n",
      "  app.launch_new_instance()\n",
      "100%|██████████| 56/56 [00:17<00:00,  3.21it/s]"
     ]
    },
    {
     "name": "stdout",
     "output_type": "stream",
     "text": [
      "top 1 avg acc:0.5245232390505927\n",
      "top 5 avg acc:0.8334691205195018\n"
     ]
    },
    {
     "name": "stderr",
     "output_type": "stream",
     "text": [
      "\n"
     ]
    }
   ],
   "source": [
    "df = open('./29_Training Dataset/Training Dataset/kyu_train.csv').read().splitlines()\n",
    "games = [i.split(',',2)[-1] for i in df] #把前面和下棋無關的字串分隔開，並且只取後面有關的字串\n",
    "pre_data_num = 0\n",
    "bs = 512\n",
    "train_games, val_games = train_test_split(games, test_size=0.001)\n",
    "val_x_list = []\n",
    "val_y_list = []\n",
    "val_x_pre_eight_list = []\n",
    "for val_game_num, val_game in enumerate(val_games):\n",
    "    val_move_list = val_game.split(',')\n",
    "\n",
    "    for idx, val_move in enumerate(val_move_list):\n",
    "        val_x = prepare_input(val_move_list[:idx])\n",
    "        val_x_list.append(val_x)\n",
    "        val_y = prepare_label(val_move_list[idx])\n",
    "        val_y = torch.nn.functional.one_hot(val_y, 19*19)\n",
    "        val_y = torch.tensor(val_y, dtype=torch.float32)\n",
    "        val_y_list.append(val_y)\n",
    "\n",
    "        if((idx+1) <= pre_data_num):\n",
    "            for i in range(idx):\n",
    "                val_x = torch.cat((val_x, val_x_list[idx-1-i][5]), dim=0)\n",
    "            for i in range(pre_data_num - idx):\n",
    "                val_x = torch.cat((val_x, torch.zeros((1, 19, 19))), dim=0)\n",
    "               \n",
    "        elif((idx+1) > pre_data_num):\n",
    "            for i in range(pre_data_num):\n",
    "                val_x = torch.cat((val_x, val_x_list[idx-1-i][5]), dim=0)\n",
    "            \n",
    "        val_x_pre_eight_list.append(val_x)\n",
    "\n",
    "\n",
    "val_x_pre_eight_stack = torch.stack(val_x_pre_eight_list)\n",
    "val_y_stack = torch.stack(val_y_list)\n",
    "\n",
    "val_x_pre_eight_stack = val_x_pre_eight_stack.to(device)\n",
    "val_y_stack = val_y_stack.to(device)\n",
    "\n",
    "val_dataset = CustomDataset(val_x_pre_eight_stack, val_y_stack)\n",
    "data_loader_val = DataLoader(dataset=val_dataset, batch_size=bs, shuffle=False)\n",
    "model = torch.load('./team4762 final models/model2300.pth')\n",
    "model.eval()\n",
    "accuracy_list_top1 = []\n",
    "accuracy_list_top5 = []\n",
    "with torch.no_grad():  # Disable gradient calculation during validation\n",
    "    for val_x, val_y in tqdm(data_loader_val):\n",
    "        predictions = model(val_x)\n",
    "        top_k_values, top_k_indices = torch.topk(predictions, k=5, dim=1)\n",
    "        val_y_values, val_y_indices = torch.topk(val_y, k=1)\n",
    "        correct_predictions_top1 = torch.eq(top_k_indices[:, 0], val_y_indices.squeeze())\n",
    "        correct_predictions_top5 = torch.any(torch.eq(top_k_indices, val_y_indices), dim=1)\n",
    "\n",
    "        accuracy_top1 = torch.sum(correct_predictions_top1  == True) / len(val_y)\n",
    "        accuracy_top5 = torch.sum(correct_predictions_top5  == True) / len(val_y)\n",
    "        accuracy_list_top1.append(accuracy_top1.item())\n",
    "        accuracy_list_top5.append(accuracy_top5.item())\n",
    "        \n",
    "        # print(f'Accuracy_top1: {accuracy_top1 * 100:.2f}%')\n",
    "        # print(f'Accuracy_top5: {accuracy_top5 * 100:.2f}%')\n",
    "print(f'top 1 avg acc:{sum(accuracy_list_top1)/len(accuracy_list_top1)}')\n",
    "print(f'top 5 avg acc:{sum(accuracy_list_top5)/len(accuracy_list_top5)}')\n"
   ]
  },
  {
   "cell_type": "markdown",
   "metadata": {},
   "source": [
    "## 評估playstyle之驗證集準確率"
   ]
  },
  {
   "cell_type": "code",
   "execution_count": 7,
   "metadata": {},
   "outputs": [
    {
     "name": "stderr",
     "output_type": "stream",
     "text": [
      "c:\\Users\\Josh\\Anaconda3\\envs\\team4762\\lib\\site-packages\\ipykernel_launcher.py:6: UserWarning: To copy construct from a tensor, it is recommended to use sourceTensor.clone().detach() or sourceTensor.clone().detach().requires_grad_(True), rather than torch.tensor(sourceTensor).\n",
      "  \n",
      "100%|██████████| 1/1 [00:00<00:00,  3.70it/s]"
     ]
    },
    {
     "name": "stdout",
     "output_type": "stream",
     "text": [
      "Validation Acc: 0.7757009345794392\n",
      "Validation Loss: 0.594667911529541\n"
     ]
    },
    {
     "name": "stderr",
     "output_type": "stream",
     "text": [
      "\n"
     ]
    }
   ],
   "source": [
    "df = open('./29_Training Dataset/Training Dataset/play_style_train.csv').read().splitlines()\n",
    "games = [i.split(',',2)[-1] for i in df]\n",
    "game_styles = [int(i.split(',',2)[-2]) for i in df]\n",
    "y_list = torch.tensor(game_styles)-1\n",
    "y_list = torch.nn.functional.one_hot(y_list, 3)\n",
    "y_list = torch.tensor(y_list, dtype = torch.float32)\n",
    "bs = 64\n",
    "pre_data_num = 7\n",
    "train_games, val_games, train_y, val_y = train_test_split(games, y_list, test_size=0.004,random_state=64)\n",
    "val_x_list = []\n",
    "val_y_list = []\n",
    "x = []\n",
    "\n",
    "\n",
    "for val_game_num, val_game in enumerate(val_games):\n",
    "    val_move_list = val_game.split(',')\n",
    "    val_x = prepare_input(val_move_list)\n",
    "    last_idx = len(val_move_list)-1\n",
    "    if(last_idx < pre_data_num):\n",
    "        for i in range(last_idx):\n",
    "            val_x = torch.cat((val_x, prepare_input(val_move_list[:last_idx-1-i])[:2]), dim=0)\n",
    "        for i in range(pre_data_num - last_idx):\n",
    "            val_x = torch.cat((val_x, torch.zeros((2, 19, 19))), dim=0)      \n",
    "    else:\n",
    "        for i in range(pre_data_num):\n",
    "            val_x = torch.cat((val_x, prepare_input(val_move_list[:last_idx-1-i])[:2]), dim=0)\n",
    "    \n",
    "    val_x_list.append(val_x)\n",
    "\n",
    "val_x_list = torch.stack(val_x_list)\n",
    "\n",
    "# val_y_stack = torch.stack(val_y_list)\n",
    "val_x_list = val_x_list.to(device)\n",
    "val_y = val_y.to(device)\n",
    "\n",
    "val_dataset = CustomDataset(val_x_list, val_y)\n",
    "data_loader_val = DataLoader(dataset=val_dataset, batch_size=len(val_games), shuffle=False)\n",
    "model = torch.load('./team4762 final models/best_PS_model.pth')\n",
    "model.eval()\n",
    "            \n",
    "total_val_loss = 0\n",
    "\n",
    "loss_fn = torch.nn.CrossEntropyLoss()\n",
    "\n",
    "with torch.no_grad(): \n",
    "    for val_x, val_y in tqdm(data_loader_val):\n",
    "        val_outputs = model(val_x)\n",
    "        val_loss = loss_fn(val_outputs, val_y)\n",
    "        total_val_loss += val_loss.item() * val_x.shape[0]\n",
    "        predicted_labels = torch.argmax(val_outputs, dim=1) \n",
    "        true_labels = torch.argmax(val_y, dim=1)\n",
    "\n",
    "avg_loss_val = total_val_loss/len(val_dataset)\n",
    "\n",
    "accuracy = torch.sum(predicted_labels == true_labels).item() / len(true_labels)\n",
    "\n",
    "\n",
    "print(f'Validation Acc: {accuracy}')\n",
    "print(f'Validation Loss: {avg_loss_val}')"
   ]
  },
  {
   "cell_type": "markdown",
   "metadata": {},
   "source": [
    "## 建立 public submission csv檔"
   ]
  },
  {
   "cell_type": "code",
   "execution_count": 3,
   "metadata": {},
   "outputs": [
    {
     "name": "stdout",
     "output_type": "stream",
     "text": [
      "{'a': 0, 'b': 1, 'c': 2, 'd': 3, 'e': 4, 'f': 5, 'g': 6, 'h': 7, 'i': 8, 'j': 9, 'k': 10, 'l': 11, 'm': 12, 'n': 13, 'o': 14, 'p': 15, 'q': 16, 'r': 17, 's': 18}\n"
     ]
    }
   ],
   "source": [
    "chars = 'abcdefghijklmnopqrs'\n",
    "coordinates = {k:v for v,k in enumerate(chars)}\n",
    "chartonumbers = {k:v for k,v in enumerate(chars)}\n",
    "print(coordinates)\n",
    "def number_to_char(number):\n",
    "    number_1, number_2 = divmod(number, 19)\n",
    "    return chartonumbers[number_1] + chartonumbers[number_2]\n",
    "\n",
    "def top_5_preds_with_chars(predictions):\n",
    "    # resulting_preds_numbers = [np.flip(np.argpartition(prediction, -5)[-5:]) for prediction in predictions]\n",
    "    resulting_preds_numbers = [np.flip(np.argsort(prediction)[-5:]) for prediction in predictions]\n",
    "    resulting_preds_chars = np.vectorize(number_to_char)(resulting_preds_numbers)\n",
    "    return resulting_preds_chars"
   ]
  },
  {
   "cell_type": "code",
   "execution_count": 11,
   "metadata": {},
   "outputs": [],
   "source": [
    "model = torch.load('./team4762 final models/model2300.pth')\n",
    "model.eval()\n",
    "\n",
    "df = open('./29_Public Testing Dataset_Public Submission Template_v2/29_Public Testing Dataset_v2/kyu_test_public.csv').read().splitlines()\n",
    "games_id = [i.split(',',2)[0] for i in df]\n",
    "games = [i.split(',',2)[-1] for i in df]\n",
    "\n",
    "test_x_list = []\n",
    "for game in games:\n",
    "    move_list = game.split(',')\n",
    "    test_x = prepare_input(move_list)\n",
    "    test_x_list.append(test_x)\n",
    "\n",
    "test_x_list = torch.stack(test_x_list)\n",
    "model = model.to(device)\n",
    "test_x_list = test_x_list.to(device)\n",
    "\n",
    "test_dataset = GamesDataset(test_x_list)\n",
    "data_loader_test = DataLoader(dataset=test_dataset, batch_size=32, shuffle=False)\n",
    "\n",
    "\n",
    "for idx,x in enumerate(data_loader_test):\n",
    "    predictions=model(x)\n",
    "    predictions = predictions.cpu()\n",
    "    predictions = predictions.detach().numpy()\n",
    "    prediction_chars = top_5_preds_with_chars(predictions)\n",
    "    \n",
    "    with open('./tem4762_public_submission.csv','a') as f:\n",
    "        for index in range(len(prediction_chars)):\n",
    "            \n",
    "            answer_row = games_id[idx*32+index] + ',' + ','.join(prediction_chars[index]) + '\\n'\n",
    "            f.write(answer_row)\n",
    "\n",
    "model = torch.load('./team4762 final models/model2000.pth')\n",
    "model.eval()\n",
    "\n",
    "df = open('./29_Public Testing Dataset_Public Submission Template_v2/29_Public Testing Dataset_v2/dan_test_public.csv').read().splitlines()\n",
    "games_id = [i.split(',',2)[0] for i in df]\n",
    "games = [i.split(',',2)[-1] for i in df]\n",
    "\n",
    "test_x_list = []\n",
    "for game in games:\n",
    "    \n",
    "    move_list = game.split(',')\n",
    "    test_x = prepare_input(move_list)\n",
    "    test_x_list.append(test_x)\n",
    "\n",
    "\n",
    "test_x_list = torch.stack(test_x_list)\n",
    "model = model.to(device)\n",
    "test_x_list = test_x_list.to(device)\n",
    "\n",
    "test_dataset = GamesDataset(test_x_list)\n",
    "data_loader_test = DataLoader(dataset=test_dataset, batch_size=32, shuffle=False)\n",
    "\n",
    "\n",
    "for idx,x in enumerate(data_loader_test):\n",
    "    predictions=model(x)\n",
    "    predictions = predictions.cpu()\n",
    "    predictions = predictions.detach().numpy()\n",
    "    prediction_chars = top_5_preds_with_chars(predictions)\n",
    "    \n",
    "    with open('./tem4762_public_submission.csv','a') as f:\n",
    "        for index in range(len(prediction_chars)):\n",
    "            answer_row = games_id[idx*32+index] + ',' + ','.join(prediction_chars[index]) + '\\n'\n",
    "            f.write(answer_row)\n",
    "\n",
    "# Load your own model. Here we use the baseline model\n",
    "model = torch.load('./team4762 final models/best_PS_model.pth')\n",
    "model.eval()\n",
    "\n",
    "df = open('./29_Public Testing Dataset_Public Submission Template_v2/29_Public Testing Dataset_v2/play_style_test_public.csv').read().splitlines()\n",
    "games_id = [i.split(',',2)[0] for i in df]\n",
    "games = [i.split(',',1)[-1] for i in df]\n",
    "\n",
    "pre_data_num=7\n",
    "test_x_list = []\n",
    "for game in games:\n",
    "    move_list = game.split(',')\n",
    "    test_x = prepare_input(move_list)\n",
    "    last_idx = len(move_list)-1\n",
    "    if(last_idx < pre_data_num):\n",
    "        for i in range(last_idx):\n",
    "            test_x = torch.cat((test_x, prepare_input(move_list[:last_idx-1-i])[:2]), dim=0)\n",
    "        for i in range(pre_data_num - last_idx):\n",
    "            test_x = torch.cat((test_x, torch.zeros((2, 19, 19))), dim=0)      \n",
    "    else:\n",
    "        for i in range(pre_data_num):\n",
    "            test_x = torch.cat((test_x, prepare_input(move_list[:last_idx-1-i])[:2]), dim=0)\n",
    "   \n",
    "    test_x_list.append(test_x)\n",
    "\n",
    "\n",
    "test_x_list = torch.stack(test_x_list)\n",
    "model = model.to(device)\n",
    "test_x_list = test_x_list.to(device)\n",
    "\n",
    "test_dataset = GamesDataset(test_x_list)\n",
    "data_loader_test = DataLoader(dataset=test_dataset, batch_size=32, shuffle=False)\n",
    "\n",
    "\n",
    "for idx,x in enumerate(data_loader_test):\n",
    "    predictions=model(x)\n",
    "    predictions = predictions.cpu()\n",
    "    predictions = predictions.detach().numpy()\n",
    "    prediction_numbers = np.argmax(predictions, axis=1)\n",
    "\n",
    "    with open('./tem4762_public_submission.csv','a') as f:\n",
    "        for index, number in enumerate(prediction_numbers):\n",
    "            answer_row = games_id[idx*32+index] + ',' + str(number+1) + '\\n'\n",
    "            f.write(answer_row)\n",
    "\n"
   ]
  },
  {
   "cell_type": "markdown",
   "metadata": {},
   "source": [
    "## 建立 private submission csv檔"
   ]
  },
  {
   "cell_type": "code",
   "execution_count": 8,
   "metadata": {},
   "outputs": [
    {
     "name": "stdout",
     "output_type": "stream",
     "text": [
      "{'a': 0, 'b': 1, 'c': 2, 'd': 3, 'e': 4, 'f': 5, 'g': 6, 'h': 7, 'i': 8, 'j': 9, 'k': 10, 'l': 11, 'm': 12, 'n': 13, 'o': 14, 'p': 15, 'q': 16, 'r': 17, 's': 18}\n"
     ]
    }
   ],
   "source": [
    "chars = 'abcdefghijklmnopqrs'\n",
    "coordinates = {k:v for v,k in enumerate(chars)}\n",
    "chartonumbers = {k:v for k,v in enumerate(chars)}\n",
    "print(coordinates)\n",
    "def number_to_char(number):\n",
    "    number_1, number_2 = divmod(number, 19)\n",
    "    return chartonumbers[number_1] + chartonumbers[number_2]\n",
    "\n",
    "def top_5_preds_with_chars(predictions):\n",
    "    # resulting_preds_numbers = [np.flip(np.argpartition(prediction, -5)[-5:]) for prediction in predictions]\n",
    "    resulting_preds_numbers = [np.flip(np.argsort(prediction)[-5:]) for prediction in predictions]\n",
    "    resulting_preds_chars = np.vectorize(number_to_char)(resulting_preds_numbers)\n",
    "    return resulting_preds_chars"
   ]
  },
  {
   "cell_type": "code",
   "execution_count": 12,
   "metadata": {},
   "outputs": [],
   "source": [
    "model = torch.load('./team4762 final models/model2300.pth')\n",
    "model.eval()\n",
    "\n",
    "df = open('./29_Private Testing Dataset_Public and Private Submission Template_v2/29_Private Testing Dataset_v2/kyu_test_private.csv').read().splitlines()\n",
    "games_id = [i.split(',',2)[0] for i in df]\n",
    "games = [i.split(',',2)[-1] for i in df]\n",
    "\n",
    "test_x_list = []\n",
    "for game in games:\n",
    "    move_list = game.split(',')\n",
    "    test_x = prepare_input(move_list)\n",
    "    test_x_list.append(test_x)\n",
    "\n",
    "test_x_list = torch.stack(test_x_list)\n",
    "model = model.to(device)\n",
    "test_x_list = test_x_list.to(device)\n",
    "\n",
    "test_dataset = GamesDataset(test_x_list)\n",
    "data_loader_test = DataLoader(dataset=test_dataset, batch_size=32, shuffle=False)\n",
    "\n",
    "\n",
    "for idx,x in enumerate(data_loader_test):\n",
    "    predictions=model(x)\n",
    "    predictions = predictions.cpu()\n",
    "    predictions = predictions.detach().numpy()\n",
    "    prediction_chars = top_5_preds_with_chars(predictions)\n",
    "    \n",
    "    with open('./tem4762_private_submission.csv','a') as f:\n",
    "        for index in range(len(prediction_chars)):\n",
    "            \n",
    "            answer_row = games_id[idx*32+index] + ',' + ','.join(prediction_chars[index]) + '\\n'\n",
    "            f.write(answer_row)\n",
    "\n",
    "model = torch.load('./team4762 final models/model2000.pth')\n",
    "model.eval()\n",
    "\n",
    "df = open('./29_Private Testing Dataset_Public and Private Submission Template_v2/29_Private Testing Dataset_v2/dan_test_private.csv').read().splitlines()\n",
    "games_id = [i.split(',',2)[0] for i in df]\n",
    "games = [i.split(',',2)[-1] for i in df]\n",
    "\n",
    "test_x_list = []\n",
    "for game in games:\n",
    "    move_list = game.split(',')\n",
    "    test_x = prepare_input(move_list)\n",
    "    test_x_list.append(test_x)\n",
    "\n",
    "\n",
    "test_x_list = torch.stack(test_x_list)\n",
    "model = model.to(device)\n",
    "test_x_list = test_x_list.to(device)\n",
    "\n",
    "test_dataset = GamesDataset(test_x_list)\n",
    "data_loader_test = DataLoader(dataset=test_dataset, batch_size=32, shuffle=False)\n",
    "\n",
    "\n",
    "for idx,x in enumerate(data_loader_test):\n",
    "    predictions=model(x)\n",
    "    predictions = predictions.cpu()\n",
    "    predictions = predictions.detach().numpy()\n",
    "    prediction_chars = top_5_preds_with_chars(predictions)\n",
    "    \n",
    "    with open('./tem4762_private_submission.csv','a') as f:\n",
    "        for index in range(len(prediction_chars)):\n",
    "            answer_row = games_id[idx*32+index] + ',' + ','.join(prediction_chars[index]) + '\\n'\n",
    "            f.write(answer_row)\n",
    "\n",
    "# Load your own model. Here we use the baseline model\n",
    "model = torch.load('./team4762 final models/best_PS_model.pth')\n",
    "model.eval()\n",
    "\n",
    "df = open('./29_Private Testing Dataset_Public and Private Submission Template_v2/29_Private Testing Dataset_v2/play_style_test_private.csv').read().splitlines()\n",
    "games_id = [i.split(',',2)[0] for i in df]\n",
    "games = [i.split(',',1)[-1] for i in df]\n",
    "\n",
    "pre_data_num=7\n",
    "test_x_list = []\n",
    "for game in games:\n",
    "    move_list = game.split(',')\n",
    "    move_list = [item for item in move_list if item != ''] #去除資料後面的空字串\n",
    "    test_x = prepare_input(move_list)\n",
    "    last_idx = len(move_list)-1\n",
    "  \n",
    "    if(last_idx < pre_data_num):\n",
    "        for i in range(last_idx):\n",
    "            test_x = torch.cat((test_x, prepare_input(move_list[:last_idx-1-i])[:2]), dim=0)\n",
    "        for i in range(pre_data_num - last_idx):\n",
    "            test_x = torch.cat((test_x, torch.zeros((2, 19, 19))), dim=0)      \n",
    "    else:\n",
    "        for i in range(pre_data_num):\n",
    "            test_x = torch.cat((test_x, prepare_input(move_list[:last_idx-1-i])[:2]), dim=0)\n",
    "   \n",
    "    test_x_list.append(test_x)\n",
    "\n",
    "\n",
    "test_x_list = torch.stack(test_x_list)\n",
    "model = model.to(device)\n",
    "test_x_list = test_x_list.to(device)\n",
    "\n",
    "test_dataset = GamesDataset(test_x_list)\n",
    "data_loader_test = DataLoader(dataset=test_dataset, batch_size=32, shuffle=False)\n",
    "\n",
    "\n",
    "for idx,x in enumerate(data_loader_test):\n",
    "    predictions=model(x)\n",
    "    predictions = predictions.cpu()\n",
    "    predictions = predictions.detach().numpy()\n",
    "    prediction_numbers = np.argmax(predictions, axis=1)\n",
    "\n",
    "    with open('./tem4762_private_submission.csv','a') as f:\n",
    "        for index, number in enumerate(prediction_numbers):\n",
    "            answer_row = games_id[idx*32+index] + ',' + str(number+1) + '\\n'\n",
    "            f.write(answer_row)\n",
    "\n"
   ]
  }
 ],
 "metadata": {
  "kernelspec": {
   "display_name": "team4762",
   "language": "python",
   "name": "python3"
  },
  "language_info": {
   "codemirror_mode": {
    "name": "ipython",
    "version": 3
   },
   "file_extension": ".py",
   "mimetype": "text/x-python",
   "name": "python",
   "nbconvert_exporter": "python",
   "pygments_lexer": "ipython3",
   "version": "3.7.16"
  }
 },
 "nbformat": 4,
 "nbformat_minor": 2
}

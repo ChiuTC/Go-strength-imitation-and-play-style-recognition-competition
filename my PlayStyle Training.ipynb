{
 "cells": [
  {
   "cell_type": "code",
   "execution_count": null,
   "metadata": {},
   "outputs": [],
   "source": [
    "import torch\n",
    "from my_data import prepare_input, CustomDataset\n",
    "from torch.utils.data import DataLoader\n",
    "from torch.optim import lr_scheduler\n",
    "from my_model import ResidualBlock, ResViT_PS\n",
    "from torch.utils.tensorboard import SummaryWriter\n",
    "from tqdm import tqdm\n",
    "from sklearn.model_selection import train_test_split"
   ]
  },
  {
   "cell_type": "code",
   "execution_count": null,
   "metadata": {},
   "outputs": [],
   "source": [
    "USE_CUDA = torch.cuda.is_available()\n",
    "device = torch.device(\"cuda:0\" if USE_CUDA else \"cpu\")\n",
    "print(device)"
   ]
  },
  {
   "cell_type": "code",
   "execution_count": null,
   "metadata": {},
   "outputs": [],
   "source": [
    "df = open('./29_Training Dataset/Training Dataset/play_style_train.csv').read().splitlines()\n",
    "games = [i.split(',',2)[-1] for i in df]\n",
    "game_styles = [int(i.split(',',2)[-2]) for i in df]"
   ]
  },
  {
   "cell_type": "code",
   "execution_count": null,
   "metadata": {},
   "outputs": [],
   "source": [
    "len(game_styles)"
   ]
  },
  {
   "cell_type": "code",
   "execution_count": null,
   "metadata": {},
   "outputs": [],
   "source": [
    "y_list = torch.tensor(game_styles)-1\n",
    "y_list = torch.nn.functional.one_hot(y_list, 3)\n",
    "y_list = torch.tensor(y_list, dtype = torch.float32)"
   ]
  },
  {
   "cell_type": "code",
   "execution_count": null,
   "metadata": {},
   "outputs": [],
   "source": [
    "y_list.shape"
   ]
  },
  {
   "cell_type": "code",
   "execution_count": null,
   "metadata": {},
   "outputs": [],
   "source": [
    "n_games = 0\n",
    "for game in games:\n",
    "    n_games += 1\n",
    "print(f\"Total Games: {n_games}\")"
   ]
  },
  {
   "cell_type": "code",
   "execution_count": null,
   "metadata": {},
   "outputs": [],
   "source": [
    "pre_data_num = 7\n",
    "model = ResViT_PS(input_dim=5 + 2* pre_data_num, ResidualBlock=ResidualBlock)\n",
    "model = model.to(device)"
   ]
  },
  {
   "cell_type": "code",
   "execution_count": null,
   "metadata": {},
   "outputs": [],
   "source": [
    "loss_fn = torch.nn.CrossEntropyLoss()\n",
    "optimizer = torch.optim.Adam(model.parameters(), lr = 1e-4)\n",
    "scheduler = lr_scheduler.StepLR(optimizer,step_size=1, gamma=0.9)\n",
    "epochs = 8\n",
    "bs = 64"
   ]
  },
  {
   "cell_type": "code",
   "execution_count": null,
   "metadata": {},
   "outputs": [],
   "source": [
    "writer = SummaryWriter(log_dir='./logs/log_resvit_playstyle')"
   ]
  },
  {
   "cell_type": "code",
   "execution_count": null,
   "metadata": {},
   "outputs": [],
   "source": [
    "train_games, val_games, train_y, val_y = train_test_split(games, y_list, test_size=0.004,random_state=64)"
   ]
  },
  {
   "cell_type": "code",
   "execution_count": null,
   "metadata": {},
   "outputs": [],
   "source": [
    "len(train_games), len(val_games)"
   ]
  },
  {
   "cell_type": "code",
   "execution_count": null,
   "metadata": {},
   "outputs": [],
   "source": [
    "len(train_y), len(val_y)"
   ]
  },
  {
   "cell_type": "code",
   "execution_count": null,
   "metadata": {},
   "outputs": [],
   "source": [
    "val_x_list = []\n",
    "val_y_list = []\n",
    "x = []\n",
    "\n",
    "\n",
    "for val_game_num, val_game in enumerate(val_games):\n",
    "    val_move_list = val_game.split(',')\n",
    "    val_x = prepare_input(val_move_list)\n",
    "    last_idx = len(val_move_list)-1\n",
    "    if(last_idx < pre_data_num):\n",
    "        for i in range(last_idx):\n",
    "            val_x = torch.cat((val_x, prepare_input(val_move_list[:last_idx-1-i])[:2]), dim=0)\n",
    "        for i in range(pre_data_num - last_idx):\n",
    "            val_x = torch.cat((val_x, torch.zeros((2, 19, 19))), dim=0)      \n",
    "    else:\n",
    "        for i in range(pre_data_num):\n",
    "            val_x = torch.cat((val_x, prepare_input(val_move_list[:last_idx-1-i])[:2]), dim=0)\n",
    "    \n",
    "    val_x_list.append(val_x)\n",
    "\n",
    "val_x_list = torch.stack(val_x_list)\n",
    "\n",
    "# val_y_stack = torch.stack(val_y_list)\n",
    "val_x_list = val_x_list.to(device)\n",
    "val_y = val_y.to(device)\n",
    "\n",
    "val_dataset = CustomDataset(val_x_list, val_y)\n",
    "data_loader_val = DataLoader(dataset=val_dataset, batch_size=len(val_games), shuffle=False)"
   ]
  },
  {
   "cell_type": "code",
   "execution_count": null,
   "metadata": {},
   "outputs": [],
   "source": [
    "from torchvision import transforms \n",
    "train_x_list = []\n",
    "train_y_list = []\n",
    "x = []\n",
    "\n",
    "\n",
    "for train_game_num, train_game in enumerate(train_games):\n",
    "    train_move_list = train_game.split(',')\n",
    "    train_x = prepare_input(train_move_list)\n",
    "    last_idx = len(train_move_list)-1\n",
    "    if(last_idx < pre_data_num):\n",
    "        for i in range(last_idx):\n",
    "            train_x = torch.cat((train_x, prepare_input(train_move_list[:last_idx-1-i])[:2]), dim=0)\n",
    "        for i in range(pre_data_num - last_idx):\n",
    "            train_x = torch.cat((train_x, torch.zeros((2, 19, 19))), dim=0)      \n",
    "    else:\n",
    "        for i in range(pre_data_num):\n",
    "            train_x = torch.cat((train_x, prepare_input(train_move_list[:last_idx-1-i])[:2]), dim=0)\n",
    "    train_x_list.append(train_x)\n",
    "\n",
    "train_x_list = torch.stack(train_x_list)\n",
    "transform = transforms.RandomHorizontalFlip(p=1.0)\n",
    "h_train_x_list = transform(train_x_list)\n",
    "\n",
    "transform = transforms.RandomVerticalFlip(p=1.0)\n",
    "v_train_x_list = transform(train_x_list)\n",
    "\n",
    "transform = transforms.RandomRotation(90)\n",
    "r_train_x_list = transform(train_x_list)\n",
    "\n",
    "transform = transforms.RandomRotation(180)\n",
    "r1_train_x_list = transform(train_x_list)\n",
    "\n",
    "transform = transforms.RandomRotation(270)\n",
    "r2_train_x_list = transform(train_x_list)\n",
    "\n",
    "\n",
    "\n",
    "train_x_list = torch.cat((train_x_list, h_train_x_list, v_train_x_list,r_train_x_list,r1_train_x_list,r2_train_x_list), dim=0)\n",
    "print(train_x_list.shape)\n",
    "train_x_list = train_x_list.to(device)\n",
    "train_y = torch.cat((train_y, train_y, train_y, train_y, train_y,train_y), dim=0)\n",
    "print(train_y.shape)\n",
    "train_y = train_y.to(device)\n",
    "train_dataset = CustomDataset(train_x_list, train_y)\n",
    "data_loader_train = DataLoader(dataset=train_dataset, batch_size=bs, shuffle=True)"
   ]
  },
  {
   "cell_type": "code",
   "execution_count": null,
   "metadata": {},
   "outputs": [],
   "source": [
    "train_x_list [0].shape"
   ]
  },
  {
   "cell_type": "code",
   "execution_count": null,
   "metadata": {},
   "outputs": [],
   "source": [
    "len(val_dataset)"
   ]
  },
  {
   "cell_type": "code",
   "execution_count": null,
   "metadata": {},
   "outputs": [],
   "source": [
    "total_games = 0 \n",
    "best_val_loss = float('inf')\n",
    "\n",
    "\n",
    "for epoch in range(epochs):\n",
    "    scheduler.step()\n",
    "    for x,y in tqdm(data_loader_train):\n",
    "        outputs = model(x) \n",
    "        loss = loss_fn(outputs, y)\n",
    "        # print(outputs)\n",
    "        optimizer.zero_grad()\n",
    "        loss.backward()\n",
    "        optimizer.step()\n",
    "        avg_loss = loss.item()  \n",
    "        total_games += 1 \n",
    "        predicted_labels = torch.argmax(outputs, dim=1)\n",
    "        true_labels = torch.argmax(y, dim=1)  \n",
    "        accuracy = torch.sum(predicted_labels == true_labels).item() / len(true_labels)\n",
    "        \n",
    "        writer.add_scalar('accuracy/train_game', accuracy, total_games)\n",
    "        # print(f'Train Acc: {accuracy}')\n",
    "        writer.add_scalar('loss/train_game', avg_loss, total_games)\n",
    "   \n",
    "        if((total_games)%2000 == 0):\n",
    "            torch.save(model, f'./playstyle_models/model{total_games}.pth')\n",
    "  \n",
    "        if(total_games%1 == 0 or total_games==1):\n",
    "            model.eval()  \n",
    "            total_val_loss = 0\n",
    "            total_val_moves = 0 \n",
    "\n",
    "            with torch.no_grad(): \n",
    "                for val_x, val_y in tqdm(data_loader_val):\n",
    "                    val_outputs = model(val_x)\n",
    "                    val_loss = loss_fn(val_outputs, val_y)\n",
    "                    total_val_loss += val_loss.item() * val_x.shape[0]\n",
    "                    val_predicted_labels = torch.argmax(val_outputs, dim=1) \n",
    "                    val_true_labels = torch.argmax(val_y, dim=1)\n",
    "                    avg_loss_val = total_val_loss/len(val_dataset)\n",
    "                    val_accuracy = torch.sum(val_predicted_labels == val_true_labels).item() / len(val_true_labels)\n",
    "                    writer.add_scalar('loss/val_game', avg_loss_val, total_games)\n",
    "                    writer.add_scalar('accuracy/val_game ', val_accuracy, total_games)\n",
    "                    # print(f'Validation Acc: {val_accuracy}')\n",
    "                    # print(f'Validation Loss: {avg_loss_val}')\n",
    "                    \n",
    "                    if(total_games<=12000 and avg_loss_val<best_val_loss):\n",
    "                        best_val_loss = avg_loss_val\n",
    "                        torch.save(model,'./playstyle_models/best_PS_model.pth')\n",
    "                \n",
    "            model.train()  "
   ]
  }
 ],
 "metadata": {
  "kernelspec": {
   "display_name": "team4762",
   "language": "python",
   "name": "python3"
  },
  "language_info": {
   "codemirror_mode": {
    "name": "ipython",
    "version": 3
   },
   "file_extension": ".py",
   "mimetype": "text/x-python",
   "name": "python",
   "nbconvert_exporter": "python",
   "pygments_lexer": "ipython3",
   "version": "3.7.16"
  }
 },
 "nbformat": 4,
 "nbformat_minor": 2
}
